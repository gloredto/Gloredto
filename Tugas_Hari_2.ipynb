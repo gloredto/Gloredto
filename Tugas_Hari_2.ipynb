{
  "nbformat": 4,
  "nbformat_minor": 0,
  "metadata": {
    "kernelspec": {
      "display_name": "Python 3",
      "language": "python",
      "name": "python3"
    },
    "language_info": {
      "codemirror_mode": {
        "name": "ipython",
        "version": 3
      },
      "file_extension": ".py",
      "mimetype": "text/x-python",
      "name": "python",
      "nbconvert_exporter": "python",
      "pygments_lexer": "ipython3",
      "version": "3.7.7"
    },
    "colab": {
      "name": "Tugas Hari 2.ipynb",
      "provenance": [],
      "collapsed_sections": [],
      "include_colab_link": true
    }
  },
  "cells": [
    {
      "cell_type": "markdown",
      "metadata": {
        "id": "view-in-github",
        "colab_type": "text"
      },
      "source": [
        "<a href=\"https://colab.research.google.com/github/gloredto/Gloredto/blob/master/Tugas_Hari_2.ipynb\" target=\"_parent\"><img src=\"https://colab.research.google.com/assets/colab-badge.svg\" alt=\"Open In Colab\"/></a>"
      ]
    },
    {
      "cell_type": "markdown",
      "metadata": {
        "id": "I6jmLA-RYrt5"
      },
      "source": [
        "<h2>Soal 1: Helper Function</h2>\n",
        "\n",
        "Jawab Pertanyaan di bawah ini:\n",
        "\n",
        "Misalkan kamu ingin mengetahui tentang kegunaan fungsi 'len' di Python, maka fungsi apa yang bisa kamu gunakan untuk menolong kamu?"
      ]
    },
    {
      "cell_type": "code",
      "metadata": {
        "id": "VrvyQxGJYrt9",
        "colab": {
          "base_uri": "https://localhost:8080/"
        },
        "outputId": "838f9d59-25d7-4ae3-d3af-9cd335f3b1c9"
      },
      "source": [
        "# lengkapi code ini\n",
        "help(len)"
      ],
      "execution_count": null,
      "outputs": [
        {
          "output_type": "stream",
          "text": [
            "Help on built-in function len in module builtins:\n",
            "\n",
            "len(obj, /)\n",
            "    Return the number of items in a container.\n",
            "\n"
          ],
          "name": "stdout"
        }
      ]
    },
    {
      "cell_type": "markdown",
      "metadata": {
        "id": "KrcuFTuAYruT"
      },
      "source": [
        "<h2>Soal 2: Built-in Function</h2>\n",
        "\n",
        "Jawab Pertanyaan di bawah ini:\n",
        "    \n",
        "Apa itu built-in Function?\n",
        "\n",
        "Sebutkan 3 built-in Function di pyhon!\n",
        "\n",
        "Berikan contoh masing2 1 cara penggunaan built-in function yang kamu sebutkan sebelumnya"
      ]
    },
    {
      "cell_type": "markdown",
      "metadata": {
        "id": "xro-58_CYruW"
      },
      "source": [
        "//isi jawaban text disini\n"
      ]
    },
    {
      "cell_type": "code",
      "metadata": {
        "id": "Xv7lHkgfYruY",
        "colab": {
          "base_uri": "https://localhost:8080/"
        },
        "outputId": "7112b081-9f28-43fc-f344-5ae0d4d8b5c4"
      },
      "source": [
        "# Contoh penggunaan built in function\n",
        "vowels = [\"a\",\"i\",\"u\",\"e\",\"o\"]\n",
        "len(vowels)"
      ],
      "execution_count": null,
      "outputs": [
        {
          "output_type": "execute_result",
          "data": {
            "text/plain": [
              "5"
            ]
          },
          "metadata": {},
          "execution_count": 3
        }
      ]
    },
    {
      "cell_type": "markdown",
      "metadata": {
        "id": "yhWXiPNDYrul"
      },
      "source": [
        "<h2>Soal 3: Method dan Function</h2>\n",
        "\n",
        "Jawab Pertanyaan di bawah ini:\n",
        "    \n",
        "- Apa perbedaan method dan function?"
      ]
    },
    {
      "cell_type": "markdown",
      "metadata": {
        "id": "rqpTJlgDYrun"
      },
      "source": [
        "Function memiliki nilai return\n",
        "Method merupakan procedure "
      ]
    },
    {
      "cell_type": "markdown",
      "metadata": {
        "id": "tUU1xgYBYrup"
      },
      "source": [
        "<h2>Soal 4: Menggunkan Method String</h2>\n",
        "\n",
        "Lengkapi kode untuk menghasilkan suatu output yang di harapkan"
      ]
    },
    {
      "cell_type": "code",
      "metadata": {
        "id": "037gauOGYrur",
        "colab": {
          "base_uri": "https://localhost:8080/"
        },
        "outputId": "2de8b13e-0170-4498-fa2f-c6cb1f774ec7"
      },
      "source": [
        "kalimat = \"Corona cepat selesai\"\n",
        "\n",
        "# gunakan method untuk mengubah nilai kalimat menjadi uppercase semua kemudian tampilkan hasilnya\n",
        "print(kalimat.upper())\n",
        "\n",
        "# gunakan method untuk menghitung berapa huruf e di dalam kalimat\n",
        "jumlahE = 0\n",
        "for i in kalimat:\n",
        "  if i == \"e\":\n",
        "    jumlahE = jumlahE+1\n",
        "print(jumlahE)"
      ],
      "execution_count": null,
      "outputs": [
        {
          "output_type": "stream",
          "text": [
            "CORONA CEPAT SELESAI\n",
            "3\n"
          ],
          "name": "stdout"
        }
      ]
    },
    {
      "cell_type": "markdown",
      "metadata": {
        "id": "fPTd4R5VYru5"
      },
      "source": [
        "Expected Output:\n",
        "\n",
        "CORONA CEPAT SELESAI\n",
        "\n",
        "3"
      ]
    },
    {
      "cell_type": "markdown",
      "metadata": {
        "id": "IPjp5vwDYrvL"
      },
      "source": [
        "<h2>Soal 5: Membuat Simple Function</h2>\n",
        "\n",
        "Buatlah suatu fungsi yang menerima satu input argumen berbentuk list dan mempunyai elemen bertipe numeric semua, dimana fungsi tersebut berguna untuk menghitung rata2 dari kumpulan elemen list tersebut. namai fungsi tersebut 'mean_list'"
      ]
    },
    {
      "cell_type": "code",
      "metadata": {
        "id": "smoKI9zIYrvO",
        "colab": {
          "base_uri": "https://localhost:8080/"
        },
        "outputId": "064dce62-b458-4f65-b032-1fd795e73881"
      },
      "source": [
        "obj_list = [11.25, 18.0, 20.0, 10.75, 9.50]\n",
        "def mean_list(inp_list):\n",
        "    total = 0\n",
        "    jumlah = 0\n",
        "    for i in obj_list:\n",
        "      total = total+i\n",
        "      jumlah = jumlah+1 \n",
        "    return(total/jumlah)\n",
        "print(mean_list(obj_list))"
      ],
      "execution_count": null,
      "outputs": [
        {
          "output_type": "stream",
          "text": [
            "13.9\n"
          ],
          "name": "stdout"
        }
      ]
    },
    {
      "cell_type": "markdown",
      "metadata": {
        "id": "MVAvoHHgYrva"
      },
      "source": [
        "Expected Output:\n",
        "\n",
        "13.9"
      ]
    },
    {
      "cell_type": "markdown",
      "metadata": {
        "id": "A8jjpNC8Yrvc"
      },
      "source": [
        "<h2>Soal 6: Membuat Function dengan Multiple arguments</h2>\n",
        "\n",
        "Buatlah suatu fungsi untuk melakukan penggabungan antara dua list"
      ]
    },
    {
      "cell_type": "code",
      "metadata": {
        "id": "r42z4mafYrve",
        "colab": {
          "base_uri": "https://localhost:8080/"
        },
        "outputId": "1ab46fa1-9dd2-4701-bb06-7712adb48ed0"
      },
      "source": [
        "obj_list = [2, 4, 5, 6]\n",
        "obj_penambah = [1, 2, 3]\n",
        "\n",
        "def kali_list(inp_listA, inpListB):\n",
        "    return(inp_listA+inpListB)\n",
        "    \n",
        "    \n",
        "print(kali_list(obj_list, obj_penambah))"
      ],
      "execution_count": null,
      "outputs": [
        {
          "output_type": "stream",
          "text": [
            "[2, 4, 5, 6, 1, 2, 3]\n"
          ],
          "name": "stdout"
        }
      ]
    },
    {
      "cell_type": "markdown",
      "metadata": {
        "id": "RYhU921kYrvp"
      },
      "source": [
        "Expected Output:\n",
        "\n",
        "[2, 4, 5, 6, 1, 2, 3]"
      ]
    }
  ]
}